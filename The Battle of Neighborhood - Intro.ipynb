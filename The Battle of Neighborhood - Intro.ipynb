{
    "cells": [
        {
            "cell_type": "markdown",
            "metadata": {
                "collapsed": true
            },
            "source": "<h1 align=center><font size = 5>The Battle of Neighborhood - Introduction and Business Problem</font></h1>"
        },
        {
            "attachments": {},
            "cell_type": "markdown",
            "metadata": {},
            "source": "##\t1. Introduction and Business Problem\nNew York City is one of the most densely populated major city in United States. Also, it has been described as the cultural, financial, and media capital of the world. Based on these features, not only people around the world would like to visit NYC, many of them even move to NYC to experience this one of the most diverse city in the world. Thus, different kinds of cuisines are needed in NYC to satisfy different people in NYC. As a result, this report tends to help a group of investors who are planning to open their first Poke Bowl restaurant in NYC.\nWith the limited knowledge of NYC market, the investors hope this report help finding the best location to launch their first restaurant in NYC. Below are the most concerned factors by the group when choosing the best location to start their business.\\\n    \u2022\tCrime rate\\\n    \u2022\tInfrastructure\\\n    \u2022\tTraffic"
        },
        {
            "cell_type": "markdown",
            "metadata": {},
            "source": "## 2. Data\n\n***a.\tNeighborhood Names GIS***\\\nThis is a dataset from NYC Open Data, which is formed by the Mayor\u2019s Office of Data Analytics (MODA) and the Department of Information Technology and Telecommunications (DoITT). This dataset includes neighborhood labels as depicted in New York City.\\\n***b.\tNYPD Complaint Data Current (Year To Date)***\\\nThis is a dataset from NYC Open Data, which is formed by the MODA and DoITT. This dataset includes all valid felony, misdemeanour, and violation crimes reported to the New York City Police Department (NYPD) for all complete quarters so far in 2019.\\\n***c.\tFoursquare API***\\\nFoursquare is a trusted and independent location data platform for understanding how people move through the real world. It will be used to collect data on other venues in the neighborhoods of New York City.\n"
        },
        {
            "cell_type": "code",
            "execution_count": null,
            "metadata": {},
            "outputs": [],
            "source": ""
        }
    ],
    "metadata": {
        "kernelspec": {
            "display_name": "Python 3.6",
            "language": "python",
            "name": "python3"
        },
        "language_info": {
            "codemirror_mode": {
                "name": "ipython",
                "version": 3
            },
            "file_extension": ".py",
            "mimetype": "text/x-python",
            "name": "python",
            "nbconvert_exporter": "python",
            "pygments_lexer": "ipython3",
            "version": "3.6.8"
        }
    },
    "nbformat": 4,
    "nbformat_minor": 1
}